{
 "cells": [
  {
   "cell_type": "code",
   "execution_count": 16,
   "metadata": {},
   "outputs": [
    {
     "name": "stdout",
     "output_type": "stream",
     "text": [
      "20\n"
     ]
    }
   ],
   "source": [
    "from multiprocessing import Pool\n",
    "import multiprocessing\n",
    "def sq(x):\n",
    "    return x*x\n",
    "if __name__ == \"__main__\":\n",
    "    print(multiprocessing.cpu_count())\n",
    "    p = Pool(5)\n",
    "    print(p.map(sq, [1, 2, 3, 4, 5]))"
   ]
  },
  {
   "cell_type": "code",
   "execution_count": 2,
   "metadata": {},
   "outputs": [
    {
     "data": {
      "text/plain": [
       "'c:\\\\Users\\\\franc\\\\anaconda3\\\\python.exe'"
      ]
     },
     "execution_count": 2,
     "metadata": {},
     "output_type": "execute_result"
    }
   ],
   "source": [
    "import sys\n",
    "sys.executable\n"
   ]
  },
  {
   "cell_type": "code",
   "execution_count": 1,
   "metadata": {},
   "outputs": [
    {
     "name": "stdout",
     "output_type": "stream",
     "text": [
      "{\"key\":\"10f11e68-c154-4a82-b882-cae1fa730b58\",\"signature_scheme\":\"hmac-sha256\",\"transport\":\"tcp\",\"ip\":\"127.0.0.1\",\"hb_port\":9000,\"control_port\":9001,\"shell_port\":9002,\"stdin_port\":9003,\"iopub_port\":9004,\"kernel_name\":\"pythonjvsc74a57bd0e03b612d84ba21ce95ed447e81b3062e1eb99b56c6d885cdab4aaa12f1b8e240\"}\n",
      "\n",
      "Paste the above JSON into a file, and connect with:\n",
      "    $> jupyter <app> --existing <file>\n",
      "or, if you are local, you can connect with just:\n",
      "    $> jupyter <app> --existing c:\\Users\\franc\\AppData\\Roaming\\jupyter\\runtime\\kernel-v2-11992IzylpasPOLed.json\n",
      "or even just:\n",
      "    $> jupyter <app> --existing\n",
      "if this is the most recent Jupyter kernel you have started.\n"
     ]
    }
   ],
   "source": [
    "%connect_info\n"
   ]
  },
  {
   "cell_type": "markdown",
   "metadata": {},
   "source": [
    "multi processing computing not working with jupyter notebook (inside VSC) using a base 3.11.5 kernel"
   ]
  },
  {
   "cell_type": "code",
   "execution_count": 3,
   "metadata": {},
   "outputs": [],
   "source": [
    " listNum=[i for i in range(20)]"
   ]
  },
  {
   "cell_type": "code",
   "execution_count": 4,
   "metadata": {},
   "outputs": [
    {
     "data": {
      "text/plain": [
       "[0, 1, 2, 3, 4, 5, 6, 7, 8, 9, 10, 11, 12, 13, 14, 15, 16, 17, 18, 19]"
      ]
     },
     "execution_count": 4,
     "metadata": {},
     "output_type": "execute_result"
    }
   ],
   "source": [
    "listNum"
   ]
  },
  {
   "cell_type": "code",
   "execution_count": 15,
   "metadata": {},
   "outputs": [
    {
     "name": "stdout",
     "output_type": "stream",
     "text": [
      "master\n"
     ]
    }
   ],
   "source": [
    "import multiprocessing as mp\n",
    "def worker(me):\n",
    "    print (\"Worker\", me)\n",
    "    return\n",
    "\n",
    "if __name__ == \"__main__\":\n",
    "    procs = []\n",
    "    print(\"master\")\n",
    "    for i in range(5):\n",
    "        p = mp.Process(target=worker,args=(i,))\n",
    "        procs.append(p)\n",
    "        p.start()\n",
    "    for p in procs:\n",
    "        p.join()"
   ]
  },
  {
   "cell_type": "code",
   "execution_count": 11,
   "metadata": {},
   "outputs": [],
   "source": [
    "import multiprocessing as mp\n",
    "import numpy as np\n",
    "\n",
    "A = np.array([[1,2,3],[4,5,6],[7,8,9]])\n",
    "B = np.array([[1,2,3],[1,2,3],[1,2,3]])\n",
    "\n",
    "def worker(me,C,l):\n",
    "    l.acquire()\n",
    "    Y = np.dot(A[me,:],B)\n",
    "    print(\"me and my product\",me, Y)\n",
    "    C.append(Y)\n",
    "    l.release()\n",
    "    return Y"
   ]
  },
  {
   "cell_type": "code",
   "execution_count": 12,
   "metadata": {},
   "outputs": [
    {
     "name": "stdout",
     "output_type": "stream",
     "text": [
      "main\n",
      "[]\n"
     ]
    }
   ],
   "source": [
    "if __name__ == \"__main__\":\n",
    "    print(\"main\")\n",
    "    mgr = mp.Manager()\n",
    "    C = mgr.list()\n",
    "    lock = mp.Lock()\n",
    "    procs = []\n",
    "    for i in range(3):\n",
    "        p = mp.Process(target=worker,args=(i,C,lock))\n",
    "        procs.append(p)\n",
    "        p.start()\n",
    "    for proc in procs:\n",
    "        proc.join()\n",
    "    print(np.array(C))"
   ]
  }
 ],
 "metadata": {
  "kernelspec": {
   "display_name": "base",
   "language": "python",
   "name": "python3"
  },
  "language_info": {
   "codemirror_mode": {
    "name": "ipython",
    "version": 3
   },
   "file_extension": ".py",
   "mimetype": "text/x-python",
   "name": "python",
   "nbconvert_exporter": "python",
   "pygments_lexer": "ipython3",
   "version": "3.11.5"
  }
 },
 "nbformat": 4,
 "nbformat_minor": 2
}
