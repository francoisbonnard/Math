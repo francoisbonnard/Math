{
 "cells": [
  {
   "cell_type": "code",
   "execution_count": 1,
   "metadata": {},
   "outputs": [
    {
     "name": "stdout",
     "output_type": "stream",
     "text": [
      "[[1 0 0 1 0 0]\n",
      " [0 2 0 0 1 0]\n",
      " [1 0 0 0 0 0]\n",
      " [0 0 1 0 2 0]]\n",
      "0.7083333333333333\n"
     ]
    }
   ],
   "source": [
    "import numpy as np\n",
    "# create dense matrix\n",
    "A = np.array([[1,0,0,1,0,0], [0,2,0,0,1,0], [1,0,0,0,0,0], [0,0,1,0,2,0]])\n",
    "print(A)\n",
    "# calculate sparsity\n",
    "sparsity = 1.0 - np.count_nonzero(A) / A.size\n",
    "print(sparsity)\n",
    "\n"
   ]
  },
  {
   "cell_type": "markdown",
   "metadata": {},
   "source": [
    "Two basic methods for sparse matrix representations are array representation and\n",
    "linked list representation."
   ]
  },
  {
   "cell_type": "code",
   "execution_count": 2,
   "metadata": {},
   "outputs": [],
   "source": [
    "import scipy"
   ]
  },
  {
   "cell_type": "code",
   "execution_count": 4,
   "metadata": {},
   "outputs": [
    {
     "name": "stdout",
     "output_type": "stream",
     "text": [
      "[[1 0 0 4 0 0]\n",
      " [0 0 2 0 0 1]\n",
      " [0 0 0 3 0 0]\n",
      " [0 0 0 0 0 5]]\n"
     ]
    }
   ],
   "source": [
    "import numpy as np\n",
    "from scipy.sparse import csr_matrix\n",
    "row = np.array([0, 0, 1, 1, 2, 3])\n",
    "col = np.array([0, 3, 2, 5, 3, 5]) \n",
    "data = np.array([1, 4, 2, 1, 3, 5]) # le 1 est en position 0 0\n",
    "S = csr_matrix((data, (row, col)),\n",
    "shape = (4, 6)).toarray()\n",
    "print(S)"
   ]
  },
  {
   "cell_type": "code",
   "execution_count": 5,
   "metadata": {},
   "outputs": [
    {
     "name": "stdout",
     "output_type": "stream",
     "text": [
      "A: \n",
      " [[1 0 0 0 4 0]\n",
      " [0 0 2 0 0 1]\n",
      " [0 0 0 3 0 0]\n",
      " [0 0 0 0 0 5]]\n",
      "S: \n",
      "   (0, 0)\t1\n",
      "  (0, 4)\t4\n",
      "  (1, 2)\t2\n",
      "  (1, 5)\t1\n",
      "  (2, 3)\t3\n",
      "  (3, 5)\t5\n",
      "B: \n",
      " [[1 0 0 0 4 0]\n",
      " [0 0 2 0 0 1]\n",
      " [0 0 0 3 0 0]\n",
      " [0 0 0 0 0 5]]\n"
     ]
    }
   ],
   "source": [
    "from numpy import array\n",
    "from scipy.sparse import csr_matrix\n",
    "# create dense matrix\n",
    "A = array([[1,0,0,0,4,0], [0,0,2,0,0,1], [0,0,0,3,0,0],\n",
    "[0,0,0,0,0,5]])\n",
    "print(\"A: \\n\",A)\n",
    "# convert to sparse matrix (CSR method)\n",
    "S = csr_matrix(A)\n",
    "print(\"S: \\n\",S)\n",
    "# reconstruct dense matrix\n",
    "B = S.todense()\n",
    "print(\"B: \\n\",B)"
   ]
  }
 ],
 "metadata": {
  "kernelspec": {
   "display_name": "base",
   "language": "python",
   "name": "python3"
  },
  "language_info": {
   "codemirror_mode": {
    "name": "ipython",
    "version": 3
   },
   "file_extension": ".py",
   "mimetype": "text/x-python",
   "name": "python",
   "nbconvert_exporter": "python",
   "pygments_lexer": "ipython3",
   "version": "3.11.5"
  }
 },
 "nbformat": 4,
 "nbformat_minor": 2
}
