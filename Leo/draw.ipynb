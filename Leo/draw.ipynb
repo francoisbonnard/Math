import numpy as np
import plyplot as plt

x4=np.linspace(-100,100)
y4=np.sqrt(x**3/(x-1))
y5=y4-x4
y6=y4+x4
plt.plot(x4,y4)
plt.plot(x4,y5)
plt.plot(x4,y6)