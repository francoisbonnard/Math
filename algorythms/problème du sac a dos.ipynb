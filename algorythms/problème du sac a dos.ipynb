{
 "cells": [
  {
   "cell_type": "markdown",
   "metadata": {},
   "source": [
    "# problème du sac a dos\n",
    "\n",
    "P poids maximal\n",
    "\n",
    "Pour chaque objet : sa valeur p, son poids p, q quantité dans le sac\n",
    "\n",
    "$q_i$ peut être un réel car les objets peuvent être fractionnés\n",
    "\n",
    "\n",
    "$V = \\sum_{i=0}^{n-1}q_iv_i $\n",
    "$\\sum_{i=0}^{n-1}q_iv_i <= P$\n",
    "\n",
    "$ r_i = \\frac{v_i}{p_i}$\n",
    "rapport valeur sur poids"
   ]
  },
  {
   "cell_type": "code",
   "execution_count": 1,
   "metadata": {},
   "outputs": [],
   "source": [
    "import numpy as np"
   ]
  },
  {
   "cell_type": "code",
   "execution_count": 2,
   "metadata": {},
   "outputs": [],
   "source": [
    "l_objects = [(2,3),(3,2),(4,3),(2,1),(5,4)] #couple (valeur, poids)]"
   ]
  },
  {
   "cell_type": "markdown",
   "metadata": {},
   "source": [
    "## Sous structure optimale avec Stratégie gloutonne"
   ]
  },
  {
   "cell_type": "markdown",
   "metadata": {},
   "source": [
    "Objectif : trouver une solution optimale.\n",
    "Ce pb contient une sous-structure optimale (car le pb initial contient des solutions optimales de sous-problèmes)\n"
   ]
  },
  {
   "cell_type": "markdown",
   "metadata": {},
   "source": [
    "On suppose que les objets sont rangés dans l'ordre décroissant des rapports $r_i=v_i/p_i$\n",
    "\n",
    "$v_0/p_0=r_o >= r_1 >= ... >= r_{n-1}$\n",
    "\n",
    "Stratégie gloutonne : prendre la plus grande quantité de l'objet $O_0$ (celui de plus grande valeur), puis s'il reste de la place passer à $O_1 $\n",
    "\n",
    "Donc seule une fraction du dernier objet pourra être mise dans le sac"
   ]
  },
  {
   "cell_type": "markdown",
   "metadata": {},
   "source": [
    "## Sac à dos 0-1\n",
    "\n",
    "Les objets ne peuvent être fractionnés"
   ]
  },
  {
   "cell_type": "markdown",
   "metadata": {},
   "source": [
    "## Programmation dynamique\n",
    "\n",
    "déterminer des solutions optimales à des problèmes présentant des sous structures optimales et pour lesquels il y a chevauchement des sous problèmes"
   ]
  },
  {
   "cell_type": "markdown",
   "metadata": {},
   "source": [
    "## Algorithme génétique"
   ]
  },
  {
   "cell_type": "code",
   "execution_count": 41,
   "metadata": {},
   "outputs": [],
   "source": [
    "\n",
    "from random import randrange"
   ]
  },
  {
   "cell_type": "code",
   "execution_count": 36,
   "metadata": {},
   "outputs": [],
   "source": [
    "def ind_alea(nb):\n",
    "    return bin(randrange(2**nb,2**(nb+1)))[3:]  #pour prendre la chaine à partir du 3eme (donc virer le \"0b\")"
   ]
  },
  {
   "cell_type": "code",
   "execution_count": 12,
   "metadata": {},
   "outputs": [
    {
     "data": {
      "text/plain": [
       "'111'"
      ]
     },
     "execution_count": 12,
     "metadata": {},
     "output_type": "execute_result"
    }
   ],
   "source": [
    "ind_alea(3)"
   ]
  },
  {
   "cell_type": "code",
   "execution_count": 60,
   "metadata": {},
   "outputs": [],
   "source": [
    "def ind_val_poids(obj, ind):\n",
    "    v,p=0,0  #valeur et poids\n",
    "    for i in range(len(ind)):\n",
    "        # print(obj[i][1],obj[i][2])\n",
    "        v+=obj[i][1]*int(ind[i])\n",
    "        p+=obj[i][2]*int(ind[i])\n",
    "    return(ind,v,p)"
   ]
  },
  {
   "cell_type": "code",
   "execution_count": 33,
   "metadata": {},
   "outputs": [],
   "source": [
    "obj = [(0,2,3),(1,3,2),(2,4,3),(3,2,1),(4,5,4),(5,1,1),(6,3,8),(7,9,1),(8,5,9),(9,4,2)]"
   ]
  },
  {
   "cell_type": "code",
   "execution_count": 61,
   "metadata": {},
   "outputs": [
    {
     "name": "stdout",
     "output_type": "stream",
     "text": [
      "0101100001 14 9\n",
      "0101111111 32 28\n",
      "0111110110 29 21\n",
      "0110000100 16 6\n",
      "0011010111 25 17\n",
      "0101100101 23 10\n",
      "1110111100 27 22\n",
      "1110110010 20 22\n",
      "1001011110 22 23\n",
      "1011010000 9 8\n"
     ]
    }
   ],
   "source": [
    "population =[]\n",
    "nb=10\n",
    "pmax=20\n",
    "for i in range(nb):\n",
    "    indvp = ind_val_poids(obj,ind_alea(nb))\n",
    "    print(indvp[0],indvp[1],indvp[2])\n",
    "    if indvp[2]<=pmax:\n",
    "        population.append(indvp)"
   ]
  },
  {
   "cell_type": "code",
   "execution_count": 43,
   "metadata": {},
   "outputs": [
    {
     "name": "stdout",
     "output_type": "stream",
     "text": [
      "5\n"
     ]
    }
   ],
   "source": [
    "print(len(population))"
   ]
  },
  {
   "cell_type": "code",
   "execution_count": 44,
   "metadata": {},
   "outputs": [
    {
     "data": {
      "text/plain": [
       "('1000000011', 11, 14)"
      ]
     },
     "execution_count": 44,
     "metadata": {},
     "output_type": "execute_result"
    }
   ],
   "source": [
    "population[0]"
   ]
  }
 ],
 "metadata": {
  "kernelspec": {
   "display_name": "base",
   "language": "python",
   "name": "python3"
  },
  "language_info": {
   "codemirror_mode": {
    "name": "ipython",
    "version": 3
   },
   "file_extension": ".py",
   "mimetype": "text/x-python",
   "name": "python",
   "nbconvert_exporter": "python",
   "pygments_lexer": "ipython3",
   "version": "3.11.5"
  }
 },
 "nbformat": 4,
 "nbformat_minor": 2
}
